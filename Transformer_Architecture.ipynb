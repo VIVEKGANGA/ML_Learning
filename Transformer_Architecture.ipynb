{
  "nbformat": 4,
  "nbformat_minor": 0,
  "metadata": {
    "colab": {
      "provenance": [],
      "authorship_tag": "ABX9TyPx4+xEz2P1MJNJHZiutcfs",
      "include_colab_link": true
    },
    "kernelspec": {
      "name": "python3",
      "display_name": "Python 3"
    },
    "language_info": {
      "name": "python"
    }
  },
  "cells": [
    {
      "cell_type": "markdown",
      "metadata": {
        "id": "view-in-github",
        "colab_type": "text"
      },
      "source": [
        "<a href=\"https://colab.research.google.com/github/VIVEKGANGA/ML_Learning/blob/master/Transformer_Architecture.ipynb\" target=\"_parent\"><img src=\"https://colab.research.google.com/assets/colab-badge.svg\" alt=\"Open In Colab\"/></a>"
      ]
    },
    {
      "cell_type": "markdown",
      "source": [
        "Positional Encoder"
      ],
      "metadata": {
        "id": "VENV3Tulqd3Y"
      }
    },
    {
      "cell_type": "code",
      "source": [
        "!pip install gensim==3.8.3\n",
        "import torch\n",
        "import nltk\n",
        "nltk.download('punkt')"
      ],
      "metadata": {
        "colab": {
          "base_uri": "https://localhost:8080/"
        },
        "id": "Ft4MZYVFq4CK",
        "outputId": "886a1e37-6dbb-46c8-db44-41ed7489f39d"
      },
      "execution_count": 16,
      "outputs": [
        {
          "output_type": "stream",
          "name": "stdout",
          "text": [
            "Looking in indexes: https://pypi.org/simple, https://us-python.pkg.dev/colab-wheels/public/simple/\n",
            "Collecting gensim==3.8.3\n",
            "  Downloading gensim-3.8.3-cp37-cp37m-manylinux1_x86_64.whl (24.2 MB)\n",
            "\u001b[K     |████████████████████████████████| 24.2 MB 2.5 MB/s \n",
            "\u001b[?25hRequirement already satisfied: scipy>=0.18.1 in /usr/local/lib/python3.7/dist-packages (from gensim==3.8.3) (1.7.3)\n",
            "Requirement already satisfied: smart-open>=1.8.1 in /usr/local/lib/python3.7/dist-packages (from gensim==3.8.3) (5.2.1)\n",
            "Requirement already satisfied: six>=1.5.0 in /usr/local/lib/python3.7/dist-packages (from gensim==3.8.3) (1.15.0)\n",
            "Requirement already satisfied: numpy>=1.11.3 in /usr/local/lib/python3.7/dist-packages (from gensim==3.8.3) (1.21.6)\n",
            "Installing collected packages: gensim\n",
            "  Attempting uninstall: gensim\n",
            "    Found existing installation: gensim 3.6.0\n",
            "    Uninstalling gensim-3.6.0:\n",
            "      Successfully uninstalled gensim-3.6.0\n",
            "Successfully installed gensim-3.8.3\n"
          ]
        },
        {
          "output_type": "stream",
          "name": "stderr",
          "text": [
            "[nltk_data] Downloading package punkt to /root/nltk_data...\n",
            "[nltk_data]   Unzipping tokenizers/punkt.zip.\n"
          ]
        },
        {
          "output_type": "execute_result",
          "data": {
            "text/plain": [
              "True"
            ]
          },
          "metadata": {},
          "execution_count": 16
        }
      ]
    },
    {
      "cell_type": "code",
      "source": [
        "import pandas as pd\n",
        "import numpy as np\n",
        "import math\n",
        "from nltk.tokenize import sent_tokenize, word_tokenize\n",
        "import gensim\n",
        "from sklearn.metrics.pairwise import cosine_similarity\n",
        "import matplotlib.pyplot as plt\n",
        "import warnings \n",
        "warnings.filterwarnings(action = 'ignore') "
      ],
      "metadata": {
        "id": "AJT8iePZwBVf"
      },
      "execution_count": 18,
      "outputs": []
    },
    {
      "cell_type": "code",
      "source": [
        "sample = open(\"text.txt\", \"r\") \n",
        "s = sample.read() \n",
        "f = s.replace(\"\\n\", \" \") \n",
        "data = []\n",
        "for sentence in sent_tokenize(f):\n",
        "  temp = []\n",
        "  for word in word_tokenize(sentence):\n",
        "    temp.append(word.lower())\n",
        "  data.append(temp)\n"
      ],
      "metadata": {
        "id": "-rSZppg8wTge"
      },
      "execution_count": 20,
      "outputs": []
    },
    {
      "cell_type": "code",
      "source": [
        "w2v_model = gensim.models.Word2Vec(data,min_count=1, size=512, window=5, sg=1)"
      ],
      "metadata": {
        "colab": {
          "base_uri": "https://localhost:8080/"
        },
        "id": "IIW8JcLsw01V",
        "outputId": "4133d4cf-849f-4f6d-a9c6-6c410a5c59ef"
      },
      "execution_count": 23,
      "outputs": [
        {
          "output_type": "stream",
          "name": "stderr",
          "text": [
            "WARNING:gensim.models.base_any2vec:under 10 jobs per worker: consider setting a smaller `batch_words' for smoother alpha decay\n"
          ]
        }
      ]
    },
    {
      "cell_type": "code",
      "source": [
        "word1='black'\n",
        "word2='brown'\n",
        "pos1=2\n",
        "pos2=10\n",
        "a=w2v_model[word1]\n",
        "b=w2v_model[word2]"
      ],
      "metadata": {
        "id": "r3Z9Pn29xRZt"
      },
      "execution_count": 25,
      "outputs": []
    },
    {
      "cell_type": "code",
      "source": [
        "dot_product = np.dot(a,b)\n",
        "norma = np.linalg.norm(a)\n",
        "normb = np.linalg.norm(b)\n",
        "cos = dot_product/(norma * normb)\n",
        "print(cos)"
      ],
      "metadata": {
        "colab": {
          "base_uri": "https://localhost:8080/"
        },
        "id": "3225IzWHxX5l",
        "outputId": "75808ad0-5b60-40c0-b861-550c313657d0"
      },
      "execution_count": 29,
      "outputs": [
        {
          "output_type": "stream",
          "name": "stdout",
          "text": [
            "0.9998795\n"
          ]
        }
      ]
    },
    {
      "cell_type": "code",
      "source": [
        "aa = a.reshape(1,512)\n",
        "bb = b.reshape(1,512)\n",
        "cos_lib = cosine_similarity(aa, bb)\n",
        "print(cos_lib)"
      ],
      "metadata": {
        "colab": {
          "base_uri": "https://localhost:8080/"
        },
        "id": "cVqGbCfWx11W",
        "outputId": "f7d68e19-9e2a-447d-d8d5-25f66812257f"
      },
      "execution_count": 31,
      "outputs": [
        {
          "output_type": "stream",
          "name": "stdout",
          "text": [
            "[[0.9998795]]\n"
          ]
        }
      ]
    },
    {
      "cell_type": "markdown",
      "source": [
        "Simple positional encoder calculation"
      ],
      "metadata": {
        "id": "30lcL62n0KQL"
      }
    },
    {
      "cell_type": "code",
      "source": [
        "pe1=aa.copy()\n",
        "pe2=bb.copy()\n",
        "def positional_encoder(pe, pos):\n",
        "  for i in range(0,512,2):\n",
        "    pe[0][i] = math.sin(pos/(10000 **(2*i/512)))\n",
        "    pe[0][i+1] = math.cos(pos/(10000 **(2*i/512)))\n",
        "    return pe\n"
      ],
      "metadata": {
        "id": "61NFjWKdqhr4"
      },
      "execution_count": 34,
      "outputs": []
    },
    {
      "cell_type": "code",
      "source": [
        "import random\n",
        "pe1 = positional_encoder(pe1, 2)\n",
        "pe2 = positional_encoder(pe2,10)\n",
        "print(cosine_similarity(pe1,pe2))"
      ],
      "metadata": {
        "colab": {
          "base_uri": "https://localhost:8080/"
        },
        "id": "xyksf2idq2-J",
        "outputId": "f8bb1daf-4d5b-4f9b-dc84-29692d83f008"
      },
      "execution_count": 36,
      "outputs": [
        {
          "output_type": "stream",
          "name": "stdout",
          "text": [
            "[[0.52173054]]\n"
          ]
        }
      ]
    },
    {
      "cell_type": "markdown",
      "source": [
        "Adding word embedding with positional encoder"
      ],
      "metadata": {
        "id": "CMcJvPcJ0OWA"
      }
    },
    {
      "cell_type": "code",
      "source": [
        "pe1=aa.copy()\n",
        "pe2=bb.copy()\n",
        "paa = aa.copy()\n",
        "pbb = bb.copy()\n",
        "d_model=512\n",
        "max_print=d_model\n",
        "max_length=20\n",
        "\n",
        "for i in range(0,max_print,2):\n",
        "  pe1[0][i] = math.sin(pos1/(10000 **(2*i/d_model)))\n",
        "  paa[0][i] = (paa[0][i]*math.sqrt(d_model))+ pe1[0][i]\n",
        "  pe1[0][i+1] = math.cos(pos1/(10000 **(2*i/d_model)))\n",
        "  paa[0][i+1] = (paa[0][i+1]*math.sqrt(d_model))+ pe1[0][i+1]\n",
        "  #print(i,paa[0][i],i+1,paa[0][i+1])\n",
        "\n",
        "for i in range(0, max_print,2):\n",
        "  pe2[0][i] = math.sin(pos2 / (10000 ** ((2 * i)/d_model)))\n",
        "  pbb[0][i] = (pbb[0][i]*math.sqrt(d_model))+ pe2[0][i]\n",
        "\n",
        "  pe2[0][i+1] = math.cos(pos2 / (10000 ** ((2 * i)/d_model)))\n",
        "  pbb[0][i+1] = (pbb[0][i+1]*math.sqrt(d_model))+ pe2[0][i+1]\n",
        "  "
      ],
      "metadata": {
        "id": "DyqQew96sXx1"
      },
      "execution_count": 38,
      "outputs": []
    },
    {
      "cell_type": "code",
      "source": [
        "cos_lib = cosine_similarity(aa, bb)\n",
        "print(cos_lib,\"word similarity\")\n",
        "cos_lib = cosine_similarity(pe1, pe2)\n",
        "print(cos_lib,\"positional similarity\")\n",
        "cos_lib = cosine_similarity(paa, pbb)\n",
        "print(cos_lib,\"positional encoding similarity\")"
      ],
      "metadata": {
        "colab": {
          "base_uri": "https://localhost:8080/"
        },
        "id": "MeqAMAY61LPe",
        "outputId": "f7fd63f9-1c4b-41b8-c753-6f5c461a3db0"
      },
      "execution_count": 39,
      "outputs": [
        {
          "output_type": "stream",
          "name": "stdout",
          "text": [
            "[[0.9998795]] word similarity\n",
            "[[0.8600013]] positional similarity\n",
            "[[0.9603914]] positional encoding similarity\n"
          ]
        }
      ]
    },
    {
      "cell_type": "code",
      "source": [],
      "metadata": {
        "id": "yMeAjBko165H"
      },
      "execution_count": null,
      "outputs": []
    }
  ]
}